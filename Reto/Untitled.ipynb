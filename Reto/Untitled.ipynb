{
 "cells": [
  {
   "cell_type": "code",
   "execution_count": 6,
   "id": "c78a5ec9",
   "metadata": {},
   "outputs": [],
   "source": [
    "import time\n",
    "import serial\n",
    "import numpy as np\n",
    "import matplotlib.pyplot as plt\n",
    "import matplotlib.animation as animation\n",
    "##%matplotlib notebook"
   ]
  },
  {
   "cell_type": "code",
   "execution_count": 7,
   "id": "14a5040b",
   "metadata": {},
   "outputs": [],
   "source": [
    "\n",
    "def animate (i,datalist,ser):\n",
    "    ##ser.write(b'g')\n",
    "\n",
    "    arduino_Data_string=ser.readline().decode('ascii')\n",
    "    try:\n",
    "        arduino_float=float(arduino_Data_string)\n",
    "        datalist.append(arduino_float)\n",
    "    except:\n",
    "        pass\n",
    "    datalist=datalist[-50:]\n",
    "    ax.clear()\n",
    "    ts=np.arange(0,51,1)\n",
    "    ax.plot(datalist)\n",
    "    #plt.show()\n",
    "\n",
    "\n"
   ]
  },
  {
   "cell_type": "code",
   "execution_count": null,
   "id": "02cf1da3-a629-46c8-a99f-58d8727b19c5",
   "metadata": {},
   "outputs": [],
   "source": [
    "datalist = []   \n",
    "fig=plt.figure()\n",
    "ax=fig.add_subplot(111)\n",
    "ser=serial.Serial(\"COM4\",baudrate=9600)\n",
    "time.sleep(2)\n",
    "\n",
    "ani=animation.FuncAnimation(fig,animate,frames=100,fargs=(datalist,ser),interval=100)\n",
    "\n",
    "plt.show()                                              # Keep Matplotlib plot persistent on screen until it is closed\n",
    "ser.close()  "
   ]
  },
  {
   "cell_type": "code",
   "execution_count": 10,
   "id": "a1a851a2-7f19-4564-9e99-846016640611",
   "metadata": {},
   "outputs": [],
   "source": [
    "ser=serial.Serial(\"COM4\",baudrate=9600)"
   ]
  },
  {
   "cell_type": "code",
   "execution_count": 12,
   "id": "68573b62",
   "metadata": {},
   "outputs": [],
   "source": [
    "arduino_Data_string=ser.readline().decode('ascii')"
   ]
  },
  {
   "cell_type": "code",
   "execution_count": 13,
   "id": "c6bba59e-3cd7-4d3d-9f05-0a185c57478a",
   "metadata": {},
   "outputs": [
    {
     "data": {
      "text/plain": [
       "'26.37\\r\\n'"
      ]
     },
     "execution_count": 13,
     "metadata": {},
     "output_type": "execute_result"
    }
   ],
   "source": [
    "arduino_Data_string"
   ]
  },
  {
   "cell_type": "code",
   "execution_count": 14,
   "id": "87bc6658-59a2-477d-bb66-f44acb56d04c",
   "metadata": {},
   "outputs": [
    {
     "data": {
      "text/plain": [
       "26.37"
      ]
     },
     "execution_count": 14,
     "metadata": {},
     "output_type": "execute_result"
    }
   ],
   "source": [
    "float(arduino_Data_string)"
   ]
  },
  {
   "cell_type": "code",
   "execution_count": null,
   "id": "7149e43f-5256-4b3a-a695-14157d49e103",
   "metadata": {},
   "outputs": [],
   "source": []
  }
 ],
 "metadata": {
  "kernelspec": {
   "display_name": "Python 3 (ipykernel)",
   "language": "python",
   "name": "python3"
  },
  "language_info": {
   "codemirror_mode": {
    "name": "ipython",
    "version": 3
   },
   "file_extension": ".py",
   "mimetype": "text/x-python",
   "name": "python",
   "nbconvert_exporter": "python",
   "pygments_lexer": "ipython3",
   "version": "3.8.17"
  },
  "widgets": {
   "application/vnd.jupyter.widget-state+json": {
    "state": {},
    "version_major": 2,
    "version_minor": 0
   }
  }
 },
 "nbformat": 4,
 "nbformat_minor": 5
}
